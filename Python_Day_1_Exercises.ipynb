{
  "nbformat": 4,
  "nbformat_minor": 0,
  "metadata": {
    "colab": {
      "provenance": [],
      "include_colab_link": true
    },
    "kernelspec": {
      "name": "python3",
      "display_name": "Python 3"
    },
    "language_info": {
      "name": "python"
    }
  },
  "cells": [
    {
      "cell_type": "markdown",
      "metadata": {
        "id": "view-in-github",
        "colab_type": "text"
      },
      "source": [
        "<a href=\"https://colab.research.google.com/github/logambigaik/ALB-Ingress-Controller-Setup/blob/main/Python_Day_1_Exercises.ipynb\" target=\"_parent\"><img src=\"https://colab.research.google.com/assets/colab-badge.svg\" alt=\"Open In Colab\"/></a>"
      ]
    },
    {
      "cell_type": "markdown",
      "source": [
        "By the end of the exercises, you will be able to:\n",
        "\n",
        "* Specifically extract digits from numbers using floor division and modulus to sum or reverse digits.\n",
        "\n",
        "* Measure and calculate areas and distances applying appropriate formulas.\n",
        "\n",
        "* Accept user input and convert temperature units accurately.\n",
        "\n",
        "* Report results clearly using formatted output statements.\n",
        "\n",
        "* Troubleshoot simple arithmetic operations in Python independently.\n",
        "\n"
      ],
      "metadata": {
        "id": "1Cmx2pDzco76"
      }
    },
    {
      "cell_type": "markdown",
      "source": [
        "### 1) You are developing a simple reception desk system for a community centre. When a visitor arrives, the system needs to log their info and age to offer them a personalised greeting and direct them to suitable activities.\n",
        "<p>🧪 Task: Write a Python program that asks the visitor for their name and age, then prints a friendly greeting such as:</p>\n",
        "\"Hello Sarah, welcome to the Community Centre! At 25, you're eligible for our young adults programme.\""
      ],
      "metadata": {
        "id": "RRnOPhgvcJae"
      }
    },
    {
      "cell_type": "code",
      "source": [
        "name =input(\"May I know your name?\")\n",
        "age = int(input('Your age please?'))\n",
        "print(f\"Hello {name}, welcome to the Community Centre! At {age}, you're eligible for our young adults programme\")"
      ],
      "metadata": {
        "id": "4xyA7U5cc5FQ",
        "outputId": "8735fbc7-a638-48e0-a0da-9f2e463e3d8e",
        "colab": {
          "base_uri": "https://localhost:8080/"
        }
      },
      "execution_count": 6,
      "outputs": [
        {
          "output_type": "stream",
          "name": "stdout",
          "text": [
            "May I know your name?l\n",
            "Your age please?78\n",
            "Hello l, welcome to the Community Centre! At 78, you're eligible for our young adults programme\n"
          ]
        }
      ]
    },
    {
      "cell_type": "code",
      "source": [],
      "metadata": {
        "id": "1OGqwHnHc467"
      },
      "execution_count": null,
      "outputs": []
    },
    {
      "cell_type": "code",
      "source": [],
      "metadata": {
        "id": "RPhdNYHHc2qA"
      },
      "execution_count": null,
      "outputs": []
    },
    {
      "cell_type": "markdown",
      "source": [
        "### 2) You work for a home renovation company that installs floor tiles. A customer wants to tile their kitchen floor and needs to know how many square meters of tiles to buy.\n",
        "<p> 🧪 Task: Write a Python program that asks the customer for the length and width of their kitchen (in meters), then calculates and displays the total area that needs to be tiled.\n",
        "<p> 💬 Example Output: \"To tile a kitchen of 3.5m x 2.8m, you will need 9.8 square meters of tiles.\"<p>\n",
        "🎯 Bonus Challenge:\n",
        "Each tile costs £12 per square meter. Add a cost calculator.\n",
        "Format the final message to include both the total area and the total cost:\n",
        "<p>\"You will need 9.8 square meters of tiles. The total cost will be £117.60.</p>"
      ],
      "metadata": {
        "id": "hGSFaw_Vc4FH"
      }
    },
    {
      "cell_type": "code",
      "source": [
        "length = float(input('Enter length of your kitchen in meter:'))\n",
        "width = float(input('Enter width of your kitchen in meter:'))\n",
        "total_area = length * width\n",
        "tile_cost = total_area * 12\n",
        "print(f\"You will need {total_area:.2f} square meters of tiles. The total cost will be £{tile_cost}.\")"
      ],
      "metadata": {
        "id": "InywLgwgdMMo",
        "outputId": "72350821-01f9-4451-fe2f-1482e0abedd5",
        "colab": {
          "base_uri": "https://localhost:8080/"
        }
      },
      "execution_count": 10,
      "outputs": [
        {
          "output_type": "stream",
          "name": "stdout",
          "text": [
            "Enter length of your kitchen in meter:3.9\n",
            "Enter width of your kitchen in meter:2.5\n",
            "You will need 9.75 square meters of tiles. The total cost will be £117.0.\n"
          ]
        }
      ]
    },
    {
      "cell_type": "code",
      "source": [],
      "metadata": {
        "id": "Dik8zxridMAS"
      },
      "execution_count": null,
      "outputs": []
    },
    {
      "cell_type": "markdown",
      "source": [
        "### 3) You’re helping build a basic weather app for travellers. One feature allows users to see today’s temperature in either Celsius or Fahrenheit, depending on their preference.\n",
        "<p>🧪 Task: Write a Python program that asks the user for today's temperature in Celsius, then converts it to Fahrenheit using the formula: Then print the converted temperature in a user-friendly sentence.</p>\n",
        "\n",
        "![a572b66f-215f-4655-aa58-46f6a90c23f9.png](data:image/png;base64,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)"
      ],
      "metadata": {
        "id": "lZLw1-92dMnO"
      }
    },
    {
      "cell_type": "code",
      "source": [
        "celsius = float(input(\"What is the temperature today in celsius? \"))\n",
        "fahrenheit = (celsius * 9/5) + 32\n",
        "\n",
        "print(f\"{celsius:.1f}°C is equal to {fahrenheit:.1f}°F\")"
      ],
      "metadata": {
        "id": "R0zzidvXd8Vy",
        "outputId": "86cab249-0f9c-4d38-947c-193524cca2a4",
        "colab": {
          "base_uri": "https://localhost:8080/"
        }
      },
      "execution_count": 11,
      "outputs": [
        {
          "output_type": "stream",
          "name": "stdout",
          "text": [
            "What is the temperature today in celsius? 32\n",
            "32.0°C is equal to 89.6°F\n"
          ]
        }
      ]
    },
    {
      "cell_type": "code",
      "source": [],
      "metadata": {
        "id": "8IgoXm0fd8Je"
      },
      "execution_count": null,
      "outputs": []
    },
    {
      "cell_type": "markdown",
      "source": [
        "### 4) You are helping design a basic travel guide that helps users convert distances between miles and kilometres. For now, your app will do one conversion at a time, depending on which version of the program they run.  \n",
        "<p>✨ Version A: Convert Miles to Kilometres\n",
        "🧪 Task: Write a Python program that:\n",
        "Asks the user to enter a distance in miles\n",
        "Converts it to kilometres using the formula: **km=miles×1.60934**\n",
        "<p> Prints the converted distance.</p>\n",
        "<p>✨ Version B: Convert Kilometres to Miles\n",
        "🧪 Task: Write a Python program that:\n",
        "Asks the user to enter a distance in kilometres\n",
        "Converts it to miles using the formula: **miles=km÷1.60934**\n",
        "<p> Prints the converted distance.</p>"
      ],
      "metadata": {
        "id": "tZgwCZ-Hd8of"
      }
    },
    {
      "cell_type": "code",
      "source": [
        "# Ask the user to enter distance in miles\n",
        "miles = float(input(\"Enter distance in miles: \"))\n",
        "\n",
        "kilometres = miles * 1.60934\n",
        "\n",
        "print(f\"{miles:.2f} miles is equal to {kilometres:.2f} kilometres.\")\n",
        "\n",
        "# Ask the user to enter distance in kilometres\n",
        "km = float(input(\"Enter distance in kilometres: \"))\n",
        "\n",
        "miles = km / 1.60934\n",
        "\n",
        "print(f\"{km:.2f} kilometres is equal to {miles:.2f} miles.\")"
      ],
      "metadata": {
        "id": "_r00bZb8eXOU",
        "outputId": "a03acd02-e52e-4ede-88cb-d891003c80b0",
        "colab": {
          "base_uri": "https://localhost:8080/"
        }
      },
      "execution_count": 12,
      "outputs": [
        {
          "output_type": "stream",
          "name": "stdout",
          "text": [
            "Enter distance in miles: 10\n",
            "10.00 miles is equal to 16.09 kilometres.\n"
          ]
        }
      ]
    },
    {
      "cell_type": "code",
      "source": [],
      "metadata": {
        "id": "z4lj60gEeXBW"
      },
      "execution_count": null,
      "outputs": []
    },
    {
      "cell_type": "markdown",
      "source": [
        "### 5) You’re helping a theme park design a fun feature for visitors. When they enter a 3-digit number, your program will add the digits together to tell them their \"lucky number.\"\n",
        "\n",
        "🧪 Task: Write a Python program that:\n",
        "Asks the user to enter a 3-digit number\n",
        "<p> Separates the hundreds, tens, and units digits using floor division (//) and modulus (%) </p>\n",
        "Adds the digits together\n",
        "<p>Prints the result as their \"lucky number\"</p>\n",
        "\n",
        "![d728ad14-b775-48f2-a85d-c5dfb862ce69.png](data:image/png;base64,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)"
      ],
      "metadata": {
        "id": "zs6BiKqLeXeE"
      }
    },
    {
      "cell_type": "code",
      "source": [
        "digit = input(\"Please enter three digit number:\")\n",
        "\n",
        "if len(digit) != 3 or not digit.isdigit():\n",
        "    print(\"Please enter a valid 3-digit number.\")\n",
        "else:\n",
        "  # digit =258\n",
        "  digit = int(digit)\n",
        "  num1 = digit//100\n",
        "  num2 = (digit % 100)//10\n",
        "  num3= digit %10\n",
        "  # print(num1, num2,num3)\n",
        "  sum_of_three = num1 + num2 +num3\n",
        "  print(f\"{digit} has \\n100's: {num1} \\n10's:{num2} \\n1's:{num3}\\n\")\n",
        "  print(f\"lucky number: {sum_of_three}\")\n"
      ],
      "metadata": {
        "id": "-u4fbBIafLWi",
        "outputId": "bebbd2f4-705c-4542-99b6-cd44967f5d17",
        "colab": {
          "base_uri": "https://localhost:8080/"
        }
      },
      "execution_count": 70,
      "outputs": [
        {
          "output_type": "stream",
          "name": "stdout",
          "text": [
            "Please enter three digit number:786\n",
            "786 has \n",
            "100's: 7 \n",
            "10's:8 \n",
            "1's:6\n",
            "\n",
            "lucky number: 21\n"
          ]
        }
      ]
    },
    {
      "cell_type": "code",
      "source": [],
      "metadata": {
        "id": "RNje0i22fLOP"
      },
      "execution_count": null,
      "outputs": []
    },
    {
      "cell_type": "markdown",
      "source": [
        "### 6) You’re helping a museum design an escape room game. When players find a 4-digit number, they must reverse it using your program to unlock the next clue.\n",
        "<p>🧪 Task: Write a Python program that:</p>\n",
        "Asks the user to enter a 4-digit number\n",
        "<p>Uses floor division (//) and modulus (%) to separate the digits\n",
        "<p>Reverses the digits and prints the result as the “secret code </p>\n",
        "\n",
        "\n",
        "\n",
        "![56804624-f9e9-417f-b544-94b8a84e2358.png](data:image/png;base64,iVBORw0KGgoAAAANSUhEUgAAAyAAAABwCAYAAADmFhQCAAAAAXNSR0IArs4c6QAAAARzQklUCAgICHwIZIgAACAASURBVHic7J1Xc1tZdrZf5JxzJpgVu0fqaXt84fL/9ufyRZc9odVBiWImcs4547uQ1+oNCGCQKIrS7KeKNT0ieHDOPjusvBTz+XwOiUQikUgkEolEIrkDlF/6BiQSiUQikUgkEsk/D1IBkUgkEolEIpFIJHeGVEAkEolEIpFIJBLJnSEVEIlEIpFIJBKJRHJnSAVEIpFIJBKJRCKR3BlSAZFIJBKJRCKRSCR3hlRAJBKJRCKRSCQSyZ0hFRCJRCKRSCQSiURyZ0gFRCKRSCQSiUQikdwZ6i99AxLJbTGdTjGZTDAejzEajTCfz6HVaqHX66FUKqFUKqFQKL70bd5L5vM5JpMJhsMhhsMhptMpptMp5vP5wueUSiU0Gg00Gg20Wi20Wi2USmnH+JqYz+eYzWYYDocYj8f8jumdqtXvj4XL1gqttdFoxPOF5gbNC5VKdS/X22w2w3Q6xXg8Rr/fx3g8hkKhgFqt5v1CpVLJef1PCu2FdI5Mp1OoVCro9XpoNBp5jkgkt4RUQCTfBPP5HIPBALVaDeVyGaVSCZPJBH6/H9FoFGazGTqdDiqV6kvf6r2DBLJ2u410Oo10Oo1ms4nBYIDJZLLwWa1WC7fbDa/XC7/fD5/PB71e/4XuXHJTSPnodrsoFAooFosYjUZQKpVwuVwIhUKw2WyXClm01ur1OkqlEjKZDBqNBgwGAxwOB4LBIILBIMxm871TQubzOUajEdrtNiqVCi4uLlAsFqHVamG1WhEKhRAOh+FwOABAKiH/ZJDyUavVUK1WUSqV0G63YbFYEI/H4XK5oNPpoFar79W8lki+RqQCgvebDh3Ms9kMABYs5nKj+XzM53O2tgN/jPtNrUzz+Ry9Xg+5XA7Hx8d4+/YtRqMRHj16BIPBAJVKJa1XK6DxHwwGKJfLePv2LX7++WcUCgU0m02Mx+OFz5tMJuzs7GB/fx/z+Rw2m00qIF8RtM91Oh2cnZ3h4OAAnU4HarUaOzs7MBqNMJlM0Gg0l16j3+8jn8/j4OAAL168QCqVgt1uRzwex3fffQez2QyDwXAv19toNEK9XsfJyQl++uknvHnzBgaDAeFwGM+fP+cx0Ol0N1JAls8Q4L0XifYzydfBeDxGpVLh9ZHL5RAIBKDRaHhO3DfF+luE1hN54pe98cSyzHDVe6Fridddd20RuvZ1v0vcD2az2drvEK+5br+87lhcB5VKtTB/v+Q8/qdXQObzOYbDIZrNJhqNBmq1GqbTKVwuF3w+H4xGI3Q6ndxsbhmyRPb7fVSrVWSzWYzHY7jdbvh8PlitVg6duu71ptMphsMhOp0OarUaBoMBWq0WRqPRpRvAPyu0oTUaDWQyGZyfnyOZTKLb7cJiscDj8XAoCs1/g8GAUCiEQCAAm83G4TqSrwdaK71eD81mE61WC2q1Gp1OZyEk66q/H41G6HQ6qFQq7Emx2+3o9XqYTCb3dr3NZjOMx2N0u11Uq1Xk83mYTCbo9Xq0220O37wuJBwMBgNUKhXUajVMJhOo1WpYrVZ4PB6YTKZ7qYxJPmQ2m/HcbjQaqFarMBgM6Pf7K8NSJbfL8noiY9gqj7xCoYDH44HP54PdbofFYrnUIDadTjGbzVCv15HP51Gv19Htdq+15sn77/F44HA4YLFYLjXUtNttNJtNVCoVVCoVtNvtD+5drVZDp9Ox99lisXCkhkKh4LGYTCYolUooFApoNBoYDAYfGAevg0KhQDAYRCgUgtVqhcFguPQZPjf/9NLDfD5Hp9NBNpvF2dkZjo+PMRqNsLe3h+fPn8Pn80GtVkuLxy1DG0y1WsW7d+/wP//zP+j3+3j06BGePXsGhUJxa/kF8r2thvIAyuUyXr16haOjI3Q6HZjNZmxtbWF/fx92ux0ajWbB+mMwGGAwGFhok3x93JYQpVAo2KJGyurXYO0XrY60vy8r29eFwnba7TaOj49xfHyMwWAAvV6PWCwGtVoNvV4vvelfCfIdfVnIONlqtXB2doYXL14gmUyy4C3uXUqlEo8ePcLTp0+xvb2NcDgMnU4H4MP3SML8aDRCPp/H3/72N5ycnKBcLqPdbmM+n1/67q1WKx4+fIjHjx9ja2uLc4JW3f98PketVkMymcTbt2/ZkyaiVCqh0+lgs9mwv7+PH3/8EbFY7IOoAsrNvLi4wC+//IKLiwtWnK47njRmSqUS//qv/4q//OUvvDdJBeQLQtolWcPS6TSGwyFcLhcnKEqLx+dhMplwLHkqlUKn04HH40Gn0+Hkv9uwsMv3t5rJZIJer4dqtYpkMolUKgWLxYJQKIR4PI7d3V24XC5WQAgSpKRA9fXyKe9NoVBAp9PB4XAgGo2i3W7D6/XCZDIhFArB7/dz+NV9RK1Ww2Qywe/349GjR9DpdNDr9fD5fAiHwx+Vu0JCU6PRQKFQQK/Xg9FohNVqvbFHRfJlke/qy0HhwMViEZlMBtlsFsPhkHO0TCYTgD/Orn6/j1wuB4VCwZEOANYax8h72+12USwWkc/n0e12MZ/PYTQaYTQa1xohTCYTe1jWCe2TyQT9fh+dTgepVApnZ2eoVqtQKBSw2+1ssAHAoVnj8RiFQgEvX75Eq9VCPB6Hx+OB0WjkXCPacy0WC1/HYDBcOZ79fh+tVgudToc9SM1m8wNP0pfin14BIcR4PXLTyY3o8yPGNspxvzvIatvpdFCv11GpVNDpdOD1ehGLxRAIBNgdLENHvj0+ZY0pFAoYjUZWNILBILrdLjQaDcxmM+x2O4fn3UclRKfTwel0Qq1Ww2az4dmzZ1CpVJxET0r3Te9dzCUU9zK5n0kkV0PG4Ha7jbOzM5yenmIymSAajeLhw4cLAnm/30epVEIul0OhUMDR0RH6/T6A91b+UCh0aeg8yXoGg4HDqqh4xjrjg0ajgcPhgMPhgNVqhVar/eAzo9EI5XIZ2WwWJycnSCQSMBqNeP78Oe8rZFSlXDQqmvPixQtWuObzObxeL6xWK1dgi8ViMJvNePToEYbD4bWUiHK5jPPzc6RSKdRqNXS7Xd6fjUbjFy/KIxUQieSfFIqDJwvJeDyGyWSCz+eD0+mUysc3yG28SwqPdDqdcDgc2NjYuPXv+FwoFAouI22xWBAMBld+RiKR3C2krJNhrN1uw2azYXNzE5FIBG63mz2r3W6X8xb/93//F2dnZ5jP57BYLOypcDgca88v+je9Xg+/34+9vT3s7u5ie3sbWq320j1gXZI4VQcslUo4OjpCLpdDq9WCz+fDkydPsLe3xxXUAHAhj5OTE3Q6HSSTSTSbTc4xoeeg8FCqOnkdyAiSSCSgUCgwHA6h0+nQ7/fh9Xphs9m4OM+X5NYVkOtWE7jptcS/ueo7rlMFQfzvVVYq8d8vs2Ld1E1/FR9zvXUL4ra+5zah+1o1vuI4i9bEyzaQm3zvVdbIjx2T236vdwW5sQeDAZRKJbugjUbjB2FXH8vnmvM3+bub/M3n2nO+BKvu+VM8jHdpyf/Y77qqKs2n/P266121h121l930e2+bdefIbe2VN12zy9/7qWfsVev4tvf9+3SOfOx+9jHf9alQPpbNZsOjR48QCASg0+ngdrthtVoXyuhrtVq4XC7M53Pk83mUSiUMh0NUKhUkk0kEg0EEAgGo1eprl0ymvLCPCS2ez+cYj8fodDrI5/M4PT2FRqNBMBhEOByG3W5fSC4H3ntUbDYbe168Xi8AoNVqoVqtwuv1fvRaEMOrc7kcKpUKjEYjF5ChBPov7aG+FQWEtNbxeIzJZILJZMJlVRe+7P8aPdGkuKzkGDW5Go/HnCRIn6eknGUXFDXCEhtJidcnt9twOOR4wclkgnq9jmazydUQqEFVs9mE0WjEZDL5IOZPoVBAr9dzw62ryqeNRiPOa1g1NhTjR+Nz2fUALDTbExNBlUolfxdpweJ3UNIRuQLvYgLSGIjjTklmjUYD3W4X4/EY0+mUx71er0OlUn3g5lQqldBqtXz/143VptjMwWCw8A5o7MRxuY5VYPk9jMfjD0pwEtScja59X3InqGrYeDzmhDiDwcD3+ilzY7lR3bqDn96x2LhulSAkNpmkxmBXrRVxT6J1Qu9i+XuoMR2FztBaUalUHN9P+xq9YzGRWXwG+t2XQhx7umdREJ5Op6jX62i321xN5bI5L+7vNJ7L85xKk4rr6GNCmKi6Fu2V1wlhumwN073T+xXjxJf/nkp1i+9x1T3SuUHrnv670WhwrPVwOIRSqeQQRyptLM472q+pvOtdzh3xOWh9Lo/bqvGi+a7T6fjzq94zXZt+ZrPZQqPLdWcbzTFSlOmdiAYRmoviOqT7pncyn88XGmMqFIoF+WQ2my1cm9b6Oui76RyjM0SsikVzkOSc65xNNOdp3q/aK2mfUalUPO5XeabFPYDmnFh+VTyLl9+v+Ax32e+E9lyz2Yzt7W3eh1flG5KiotPpEI1GkcvlkM1m0Wg0kM1mufqlUqm8Mrn8NhAr65VKJVxcXGBjY4PDu8xm8wcypEqlgslk4sqfLpcLnU4H3W4XjUYDvV7vowwxdF41m02Uy2XkcjnUajU4HA5sbm5yddfbMjJ+Cp+sgNAErlQqSKfTyOVyqFaraDQaC4OnUqngdDqxsbGBYDAIj8fD7iURWjjlcpmbRLlcLjidTna/lUolrl4gYjKZEI1Gsbe3B6fTyS9dVFra7TZOT0+RSCS4tBuVbS2XyygWi7xB1Wq1leVgKQFob28Pm5ub7C5bnmBidZR0Oo3T01OuXrBcplKn02FnZwdbW1twuVwwm80fCN90aIzHY+RyOaRSKYzHY9akPR4PDAYDzs/PkUgkeBJTuTaj0Qin0wmfz4doNAq/38/K2udCTPI/OTnhaha00MhiUCqVMBqN8O7dO3Q6HR5T8d4UCgXMZjOi0Sii0Sg8Hg/sdvvKWEyR6XSKcrm8UDK00+nwoeh0OuHxeBCJRLgU3lUbvJg8dn5+jmw2i06ng36//8GG7vP5sLe3h2AwCLvdzhVx7hu3dU9kCapWq7i4uMD5+Tk6nc4H+4FWq4XNZkMsFkM8HofD4Vg5H8fjMcfKFgoFVCoV2Gw2xONxzkNYdpuTkJ3NZjm/RavV8tyh+FeFQoHZbIZWq8WWotFoxC5vt9uNdruNTCaDYrHI63c2m0GtVsNoNC48g81mu7YSe9vQ/tDtdpHNZpFOp1EqldBoNFiwoc9Qz5xarQadTgePx7P2upPJBIVCAdlsltfq8vskS2UgEOAyj5Qweh1on2g2m0gkEkgkEjzWqww2Imq1Gna7feG77XY7lEolxuMxGo0GN0xMpVJc8Qb4IyTLbrfD7XYjHA4jHA6vbcZIZavpvEun01x2t9frIZvNolQq8b5MJcaXr6dWq2EwGGCxWBCLxbC5ucl5KZ977pCA0uv1UCwWcXJygtFohEAgwFbYfr/Pc6jVarEyQImwW1tbiEajcDgcC2ElBCUS53I5NJtN9Ho9eL1exONxeL3eD56TBPtSqcSNUIH3lYfC4TD8fj9XN6J9gKoAaTQaWK1WKJVKnJ2dIZPJYDqdwmKxIBAIYGtrC2q1mvMFqtUq2u02nE4nz5lAIAC73X7pmM3nc7TbbS7fWiwW+d0DgN1uh8vlQjAY5PPpqqpwVO63VCrh7OwMZ2dnC+VVaX6azWY4nU5sb28jEonw2bjOWDMYDHi+k3GT5rhKpcLJyQmvhX6/j8lkAqVSCZPJxOMSi8Xg8XhurRrldSFl47LvFI1XYkVGMsredd4VGVX7/T56vR663S7LN2T0XPccq/qKfOr9dzodZDIZ5HI5Lv9rNpvh8/lWyt1fio9WQMSYN9qs3r17h+PjYxYSxMFUqVTwer1otVro9/uslYqJRcAfgl2lUsHBwQHevXuHUCjEHXrVajUymQx++eUXZLNZKBQKXnRmsxkPHz6EWq3mCkpkOaBNt91uI5lM4vfff0exWES/32fLOE0e+my9Xl9pyVAoFJwcRAKlWBmBxmY0GnG1haOjI/zyyy8sCJOVhgQCqkE/nU5ZsKKJIi7E+fx935JisYjXr19z8qfb7UY8Hofdbsfh4SHevn3L5eXI0mE0GvkQoAQssmZ9rg2G3k2v10Mmk8GbN2+Qz+fRaDTQ7/f5IGy1WphOp7xgyNIjjrtSqYTT6eR4Rr1eD4vFsva7aS5RVa1CoYBkMsnCzXQ6hUajgcfjQTgcxmAw4MNUr9evrMBFz0PVJRKJBF6+fInj42Oe26SAkAUnEoksWN6cTue1LWSfimgBJos4WRdrtdqC54/eBXn+xuMxK3eiFY2sisubpjjelUoFqVQKv//+O16/fs1CDH2WLG1Op5OFjclkApfLxbGp9FkSIlOpFN69e4eLiwv4/X5otVo2MiwroaRUJBIJnJ+fo1wuw2g0AgDcbvfC/c/nc65acn5+jmazCZVKhe3tbUSjUTSbTRwfHyOZTKJYLPJcValUrNTTnFWpVNdSYG/7HdPYU1+d8/NzHB4eshJCey59nqx10+kUTqcTTqdz7fWn0ylarRbS6TSOj49xdnaGer3OHlaaJ7FYDPv7+1AoFHA6nTAajdeyAIt9F7LZLA4ODvDmzRveK0nAo7kserY0Gg2MRiPC4TD29/d5j7DZbHzvJOCdnJzg1atXqFQqvI7Jw+73+7GxsYHpdAq73Q6z2bzSG0fKW7lcxunpKd68eYNsNssKVKfTQa/Xw2w2g1KpRKPRQLFY/KA0KAnNpPiJCaefGxpHiqP/+eef0Ww2sbOzg83NTSiVSvR6PZyenuLo6Ai1Wm3Bo+BwONDv93mNOp3OD/ay4XCIQqGAw8NDZLNZ1Ot17O7uLsTmi94WUkDo3M/n8wAAn8/H30nnQbPZxNnZGUqlEqbTKbRaLYfrvHr1Cu/evcNwOITdbsfW1hYn8ZKAn81mOcQlHo9jOBxyxbLLxqvX67EBK51OI5lMIp/Ps9DrdDrh9/uxs7PD32kwGFYmQ9PaabfbbMT67bff8PLlywWPJCkgVqsVPp8P8/mc+1GQ0XNZPqAS99lsFr/99hvLFz6fD7FYDDqdDu/evcO7d+9Qq9VYHgHA/Z92dnagVCr5jL1vvdDE80j01pDH466h9ylGAPV6PTQaDbRaLQyHwwWPDiF6ZsmrR2vjY2Qy0QhFCjfJNVarFW63m6v83Qc+SgER3YbFYhGJRAKpVAqZTAbD4ZAtYTTY5FYFgFwuh9FohMFggF6vB7/fz9UB6Nq0GTWbTeTzebTbbeRyOW7+Mp1O2fqtUqkwHo/RarUwHo/RbDbx8uVLDIdDFswNBgO796h6y+7uLjweD3tAqAlhpVLBZDKBx+NhK96ygE6KEzVzEd3nwB/WHKoDnUgkeGzIUkfCLW1spPC8fPkSzWYTu7u7bDGn+xfHp9/vs2WPSj6m02k4nU4MBgNYrVYYjUae4MPhkJ81mUyyxWA6ncLn813pRfgUaCPzer3Y2tqCw+FAu91mK0G5XGahwu12IxgMrkySUigUsFgsiEQicDgcV1ZxEA9BrVaL8XgMi8WCzc1NDuGj0KxyuczjAgB+vx8mk+mDED4S8jKZDC4uLpBOp1GtVqHVarkGOVnVh8Mh+v0+lEolJ5q12212zd6FwEHCe61WQ6FQQLlc5lrq7XYbpVJpwQN1enoKhUKxMP7iRm82mxGJRFhBJs/DfD7nd5nP55HJZLjEoc/nY4VBDJWgTuvJZBLD4RD1eh17e3tc0pUEDtFiS43B9Ho9N7xbFfYGgIUs+pvhcLjSoi4KGGSx7vV6KJVKSCaT0Gg0GA6HsNlsMJlMPG/EBqapVApWqxXz+Zzn5131DiKLZ61WQyqV4lCE+XzOCY00RuL+Qd6Rqxp+kmXU5/NhPB5Dp9Oh1WphMpmg1Wohm82ytU/0Al4V+kDjToLnxcUFEokEcrkcK6ORSISFiuFwyN4Hak7mcDjg8/ng9Xrh9/u5eIIY5mQwGOB0OhGJRPiMoLlBCmW/30e73V5oorhKkKG9zOFwIBwOYzKZwO128z5SLBZRqVTYA0L3t6yUit4z8uLd1XwRw696vR5qtRqy2Szvg6TUz+dzRKNRTtSnc3YymSCfz/P5QSE7y4bE4XCIVquFWq2GWq3Ggti6sRX/pl6vA3jf+HS594No2KvVapjNZmg2m+xB8vv9qNfrbAW2WCywWCxsWLDb7VCr1ZjNZkin07BarQgEAnC5XCvPwclkglqthpOTE7hcLkwmE2i1WgSDQTgcDt4PqPFtIpGATqfDdDpFOByGx+NZCHcWz29S6pPJJDqdDitS4tlGZw4phcPhEBsbG4hGowu5BSJkJGs0Ggv7bDKZhM1mQ6/Xg9PphN1u57OXzqt6vY6Liwve30OhELxe770RWkVIDqXw2bsIt1oFGdT0ej1MJhOX3y4WiygWi2g0GvB6vRzeTPdOZ065XEa9XudcTDp/b/IsoiGq3W7z3kaRBl6vd0Fuug8K5UcrILR5pVIp/OMf/0CtVgPw3rq4vb3Nbk8AfHCk02m8fv0ax8fH6PV66PV6AN67WdfVVR6NRshkMnwg+f1+xONx/Pjjjyw4DwYD5HI5pNNpZLNZvHnzhg9f0aJtMBigVqvx9OlTbG5usuZZr9eRTCZxdnaGw8NDjEYj7O/vcyNCi8XygTWcutxSqJS4OGkCZLNZvHz5koU6t9uNWCyG7e1tWCwWKBTva1fXajUUi0W8ffuWrRIkMGi12pUhO/T/STkbjUY4OzuD2+3G48eP8fDhQ7aSzGYzdDodbmTTaDR4k9RqtQvWpduGrGYWiwUPHjxgIYAOGrJ40XzY3d3Fs2fPEA6HFxRTQqPRwGQywWg0XuqlmM/n7JmbTqfsao9Go3C73dDpdJz/8/vvvyORSCCfz7NFyWKxfGDBpYOjWq3i9PQUL168QLvdhsVi4TkfCoWg0WjYulWpVHB+fo43b96gUCjwAUwbzV0pIIlEAm/fvmVPDQB2GZPwSDkh5XKZDzU6NCm3yuv14vnz5+zxWw5jOj8/x8nJCdLpNDqdDiKRCL7//nu43e6FzrGtVgunp6c4Pz/neu/1en2hKRz93CXj8Ri1Wg35fB7ZbBbJZJLX7N7eHoc5TiYTVKtVvH79GkdHR6hUKjg6OgIAFnjuwgsiCuapVAq//vorkskknE4nh66QEYY+T/d+cHDAjVcv67ejVqvh9XphNpsRj8fR7/c5hjybzeLnn3/GxcXFjXt/kCeGQtx++eUXJBIJttZubGxge3sbRqOR5xeFsv7++++YTCYIBoN49OgRHj16hN3dXQQCgYV1q1ar4XA4YDAY4PV6uYQllct89eoVzs/PAeBac02lUnGjMJfLhQcPHnAeVa1Ww6tXrz5oRPj06VM2OtH4kJWT9jMS+r9UUmin00Gr1UI+n+d+KPF4HBsbG9x3oNPp4Pj4GIlEAu12GwcHB5jP53A4HOwxuo2+TdeBzrRMJsN713w+Rzgcxvb2NjKZDN6+fYtGo4GjoyMO445Go1Cr1ZhMJjg9PcXp6SmHja+qiEbrhRSQdrvNicVkRCIP3sHBAQ4ODlCtVnF4eIhut8vhgeJeMJvNOCz74OAAr169Qr1eRzwexw8//ACv1wun08nnSLPZxOnpKZLJJLLZLEcJLOdCrqPZbHJoOXlSHj9+jAcPHnBoO50TZ2dnHKlxdnbG+UkUunVfIAV6PB6j1+txKBmdraKn4Tqh1IPBAN1uF+12e2Xkhahgr/KMksfLYrGwAb5Wq6FUKiGbzaJQKMDlcrHRnPbtWq3GoVL1eh0Oh4ND5ZYNoFdBc5WiMyqVCgaDAWw2GxsNbTbbnYfUXcZH7RakuVUqFeTzeaRSKcznc25gtre3h729PRZOBoMBms0mNBoNW8sqlQp0Oh28Xi+i0ejKMCASJIfDIXtW7HY7QqEQdnd3EQ6HodFo0O/3OQaUtEmy9trtdphMJlY+KPaWXN+TyYRd8mTNGwwG8Hg8iMfjXMHguslYdL80NoVCAa1Wi929u7u72NnZgdVqZQWk0WjA5XKxa5c8Pw6Hg13zZJFahhRBCkGzWCzw+/3Y2tqCz+djq2y73YZCocDZ2Rna7TaazSZKpRJCodBCUt5tQ4uVqla4XC4Af8RSWywW1Go1FjLokNja2oLX6+XQhZsgJolqtVrM53O24FKPC5PJxLkhhUKBY4pzuRznFywrZhSKUigUkM/nUS6XOYRrb28POzs7PCep2VGlUsFsNuOwFfI4UC7O5xY6yHuh1+thNpths9l4A6TqV2R5pC7nFosFBoNhIWlWrVZz/DfladDvSHGp1+tIJBJIJpPodrswmUwIBoPY39+Hz+eD2WzmddRqtXjNt9ttVKtVjv8m5Y8s87fpUr9qDZOS2e12F/IDwuEwtra2EAgEYDab2ftbr9eRz+d5PTkcDs7x+txFHsgTTXlUiUQC2WwWzWYTfr8fwWAQ8Xh8QSgnoZ/uvVQqodVqXekBoepoBHkudDodEokESqXSjRNWaa+ksaNwsY2NDYRCIezs7GBvbw9ms5kVENrnS6USms0mbDYbx96TV3xZeKAQWYrxp/lqtVpRKpVQLpc5YfUqKJ6eQhqAP+K/yftRLpd5/lMOQiwWuxdVZ9ZBewCtc+oHRPmUCoUC7XabLf0HBwcoFouwWCzY2dlhK/9dKSA0d9rtNodEGo1GTuYdjUY4OTlBvV5Ho9GAwWBALBZjL/VwOEQmk2EPDQmwYg6aWBSBQmzoHItGowiFQnA6nQsJ+2QIoNyQWCyGXq+3YHEm7y8pFN1uF3q9npVpn8+34KUhyzjltZVKJTidTlQqFc6VvCyCgQxN8/mck7dpfZGgS8a48XiM4+NjVCoVjrCIRCIccnpf5q/oLaOzo9vt8vlFxsmrZBoyuAFgr7c4h2n/EA05q8LRSEkhOWN7extHR0eo1+vI5XI4OjqCSqXC5uYmn5k0Bw4PD1EoFHhu+Xy+j1JA6OyiSB4KMydvRaPhPAAAIABJREFULRle75Mi+dEKCCVtVqtVDp3Z3d3Fo0ePOMmMBo8262AwiAcPHkCr1aJQKPDm0O/3VyZxk/BEza0eP36MP//5zyyckianVqthsVjgdDphMpmgVCo5JIFcs3fpmhsMBqx8zGYz9go9efIEfr+fhQES7CheeXt7m7VwiqMn5WLdxk5x6Ha7Hd9//z2ePXuGSCSCYDDI+TWU/0ExgO12mxcwVcGh+MQvvcHcxjuiGNjpdAqbzYatrS1WECg2nRK/jEYjHA4HnE4nisUims0mqtUq542QpZIKGVDX9larxZvN/v4+9vf32boBgIV5j8eDWCyGBw8eIJPJcO4FhQyuigu9TXQ6HXvxIpEI/vKXv3D+Ua1WQzqdxsXFBU5OTjAYDLC/v48//elP8Hg8MJlMvI7F6jc2m20hLpji96kBU6PRYCMBCSfLSZN6vR7hcBhKpZKrylBxBYpDFsfzriBlx2AwYGdnB3/+85+xv7+PjY0NuFyuhQp7BoOBrVVUwabX6/HzfO5YZLGK39nZGZLJJIcERSIR9vaJCfpfIj56HaL3pl6vYzAYQK1Wc+iV2+3mM0GheF91kBLFA4EACws07lclq6/iLjxUXwO0rgOBAL777jv88MMPCAQCnHcJgAt2eL1eHB4esvBH4U4knN0lpBCSouf1ehc8s+RlIsNcKBTCeDxGuVxm6zn90LoVFRDKjTMajYhEItjf3+fwaLFIilKpRDAYxMOHD6FQKHB8fIxyucxVHkXBjyzfFxcXqNfrXDjh4cOHC9elfZeK6wBg5ZYKNrRaLTbqrYOS2N1uN3744Qc8ffqULeKiMYlCf2g/A97LMiQjiB6AL41o4CNPNRU6ogJHdD6tul9al5R39u7dO64CuWzA8Hg8+Mtf/oLvv/8ePp9vpWGJZDmTyYRIJMIeQ/J+kHIKvH8fZAQ6ODjAL7/8gtFoxMa6jY0N7oR+E3mMoi4o96PZbEKv13OBnWXjzH3gxgoILcpGo8GNVijWlRbS8sBR9QyqedxsNjnkgjavdYkxFA5js9kQjUaxubmJcDi8EPa0XEKUhEVxU7kLqCIYadLVahVKpZJdcpQzIipnFGYyn7/vfBkIBDi2mqr3kGVq1fiQckd5LY8fP+bQMHoH5IFwOByIx+PQaDQYjUbsMblPGvFtHdhUVtLhcHB1q1WLWqPRwGAwsFJI1m8xplT0xNG873a77M6mqm6ia5Os50qlEg6HA4FAgKvOkOLd6/U4vO5zvQNS4M1mM1e4ofEpFotcOaRUKnEy597eHlcCuio0T8zXouciq8vm5iaCweDKim70bihngqxYVDqQYvE/Z27SKqikLrmtHzx4gO3tbbjdbuj1ev7cfD6HwWCAz+fD1tYWjEYj57vc9OD4WMSk/1KphFqtBpVKBY/HA4/Hw5UAv7RRYR1iQYflSjyUCC6uJzFvgnLcKAfwslygq+7hc3LfDvx1UGPJcDiMjY0NbGxsLBRBoUIyRqOR3wvlcVIxkY8Z/49BDK+jUvh0dtpsNozHYxY8STagOWWz2di7KZZ8Fst1L0NzMhAIIBwOs4dC3LOVSiWfw6VSiQXQbreLfr/PuVNicjIVh9jY2OC9UgxTJcgLOxqN4HQ6kc1mOXRcrHC3DlH22t3dxcOHD3n9kFcUACv4W1tbnGsrFmS4D4jJ+9lsFqenp8hkMmg2m3C73Rymv06uIYOi1WpFJBJBv99HpVLhIinAH5E3YnL48fExlEolNjY2EAgE2PMkGoZJzqJcJMrryOVy6PV6SCQSsNvtnPNLssRkMoHT6cT+/j729vY4WmBdWsK6caFqkel0GuVymXM5PR4Ph9Del/dI3EgBESuWtFotFItFjjFzOp2sda568XSAkJIwGAxQr9fZVWS1WjlOWYSqyojdIe9D/eJlxMpXVIK02WzCbDZz7N9l9eVpo6QwBwpRoRKG6+L2dDodHA4Hh6cZjcYPhDYae6fTiSdPniAej7M72Waz8UF+XwWVmyJW73A4HFzW+GNrmlNs5WAw4CRYAPB4PFdemxQRcpPToU2KN83nL5U896mIihnllhgMBlitVi5hfdWcp02SclFEw8FdCTUE5XZROUpaU8vPQBb5cDgMs9mMvb097iTv8Xg+e3lr2m8onIiEHBpLSk69qgyo5PMqCV+LB4RKuVOX5Luq0vcx0F5J5xd5zSg3R+zxRDKH0WjkfFBRqb0Myl+kCAM6Y9d5eZb7dJAQSzlCVCyi1Wpx9UEKD6Z9ZtVaFYuAGAwGztmoVquo1WoYDAaYTCZr5S7yTLndbj7vReGWFDVS5J49e8aFJHQ6HRd2uA/7CBmWS6US3r17h3/84x/IZrNs6I1Go4hEIjCbzR/8LY0jJdar1Wo8ePAAg8GAK5kRVNigUCigWCxy2PXGxgZHU8Tj8Q+qcJKSrlKp8PTpUzidTpyenuLk5ATFYhG//fYbfv31V652ZTab8eDBA8Tjcezv73MJ8ZucHWJVO8rdaTQanK7g8/l4bdy39XxjDwiFSpCQ3el0oFKpOA55naWeSoOVy2XuE0KVkEgjXCWEUagDCQX3eWOkvAOqvEOVaNrtNvc1Wbd5jcdjLg9IG5TBYOCxWRfSQZud2WzmjWZV2WCFQsEVvZYbqd1ls6G7gA4OvV7PFrurKv1cBoW6UKUcisk1mUxoNBrIZDKcT7HMfD5n6z5VJAGAbrfLlbg+V/7NXSDG8Yu9Vajow3J/DkIMQTQYDKzEkYImliW8SyFOLEtNuSjrlH9KcKZEVEqAvKw54m0iVpGiMaNwC8p5uw9CwzpEwYeEQwr5oGpadMCTskW/o/VDuUIfm1gpWoA/B1/LvkqCE835r2Hu0N5BlYdWNVej+bXctHT5fFwHeVnoHLmsghBZ1+l7xEqIVJp1OBxyNUSqyNdoNFAulxfyPUTEHjn1ep2vp9VquYTuujOEIgEoPIj25FUyAnkGTCYTGzjo37+0zEX3Q43+zs/PcXR0hMPDQ27xEI1GEQ6H4fV6VxqzgT/mjc1m49wy+hH3AnoX6XQaJycn+Pnnn5FOp9lLRr2TVlWvo3K8KtX7RoNkICavFfWRoiJAdrudPTbkyRAbcF+F2MCZckyn0ymH4lNp+7vKz7oJN7ojelFipn25XOakayppt04Qo1KaVKqT8hOuEjJo0qzaPO4LYvlgqqhA5QepEhIllq2CNiISUgeDAY+L6BoUvw9YbGRz1fjQZvytI1aq+JSa2gRZskg4pnKd9Xqdq62sSxibz+fscqd3a7PZrjXvvwZobEgoFJOvr7Ne6R0pFIqFZk4U1nFX4ZPi/axaU+s++yUqdQF/KB9U0pwqU5EgchcK0KdC8fs2m42t7lRNKpvNwmKxwG63Q6PRcF6XWE6a4t/tdjscDsdH7W2fe/19Lev7tvbKu4Dm9fI6XbfffEpu4033A/oRFWZSlkXjbavV4gT6X3/9Fdlslr00y9cXr0WNHU0m04KicNn9031fZRj5kvvZVZBQX6vVcHR0hNevX3Nhl62tLTx69AgPHz5EOByG1Wq9dC8gefIygZwS9mk91Go1Norlcjm43W5sbm4uFDiifEiqfnV2doaLiwtMJhNuNE3Kn2isbjabODg4QDKZRCQS4abFZDi9ah+nkP1isYhyuYxms8mlpVeF/d8nPioHhBYSVbdqNBooFApIpVKXvngS0im0wmKxrCxju+5v7zu0SGiiUl18Ku+6zhos/j1NfJPJtBDSdh8nz9fCp84dmvNivXSqckJK3VWb2XQ65bABsqTdlaX8cyJWiiGPzk3/XjRsUEz2ctNEyYeQwkZVAi/zlN5HKDzRbDZz4i11w6ayvpSnJpbhTafTnNAphud+jALyuQ1aX/Pavq/c9vy+zbxD0aIu7osk89C/kaevXq+j1+shm81eafGmPZL6MZH35zL5YJXR8muDDLtUrvvg4ABv377lIhThcBhPnz7F7u4u5+B96rqj0DWfz8dV97rdLpLJ5EJEA/WOoTzefr+PQqHAStLh4SG8Xi+ePn3KbQicTieH0L158wa//vor8vk8Op0ONjY2uHACyRaXyQhkAKzVasjlcqhUKhiNRlzKnHpq3Vejwo0UENqsKY7OYDBwDXCLxcKxZtd9WIvFgng8ztoeuaDWffd9hyYOuXwped5qtcJut3Ny0mWIrmW/38/xjDQhxfCpb5H7+Fw05+ndUrKeyWSCzWZbqIN/GRTe43A4sLGxAafTyaFh9/G5rwONDXWmv6mbV/SMUgdgMWSCNvbb4ms9hFdB1k/RU3rV8923eSZ2U6dQPvLoVCoVnJ2dQa/X8zyhpoFUCnVvbw/RaJQVkJs+37c0H/5ZuG9zmKB5LHpwac8nYxPtlZTLQRXfqPHtdUIJKU/N6/UiFApx+M7nDie8a8SokmKxiJOTExwcHHB5W4/Hg6dPn+K7777D1tbWR1WOugzyGlGIKBk4yBgp5iiSYknNp9+8eYNut8t967a3t7Hxf5UUKcFfq9Vy7p5Wq8Xx8TGazSb3QiJD9Lp9jbzgVNyGWjhQ41Vq3P0x++JdcWMPCAlilORLAtnm5iYeP36MWCx2bRceaXhUNk8UsL82REFM3Fy8Xi82Nzexvb2NeDy+UEnnMsTJT5vXt7S53CWfuvgop4TeLRUWiMfj/G49Hs+1+wiIysy3kCQsNoe8qauXDhiqPEZJn2I+0029KgDWCuP3dSO+TS7bJ+7THiIKGFR9rl6vYzQaIZfL4eDgYMFLSF3NA4EAfvzxR/zwww/ci+GmTRCX70PyZfkW3gHleFCoLpWVFqM8tFotRzdQXyYq8UqNDa+ax2K4nEajYfkJ+DbGkRCr5GUyGfz973/HmzdvkM1modVqEYvF8B//8R+IxWJcffVLhY9REjiF2798+ZJlYird7PP5FsJjrVYrdnZ2uFFqvV5Hq9VCIpHgPBVqYLrKUyt2Pad+fNQYmYoy3NfcD+LGHhASjCkxi5IgSXi4bkjV8nWv4mtYWKISIiZ8U1lAi8XCuQLXFYSu41qVXM6njtWy149cvFR6UqzGchMB91sQhimMhpK1KSGaqmJRla/lQ5UUBKouNhgMoFAo2FNoNps5Gfwm4yRW6iOBttlsYjgccsz0twLNSb1ez1ZWys+jfJBl6KCs1WooFovI5/MYj8fcpO8umc/nnNfRarW4WRwdoMt1/Mkz7HK5sL+/j0gkwtVd7mPc+rfK5wiBWi7y0Wq11hrr7uMaplAYseQu5SZRhU9KUCdvMVU/pOehvkI3FRi/hXNkGTJMVCoVpFIpHBwc4Pz8HJ1OB263m3tmxONxbhB426HqYug1hbhStThKYqc9ij5DOR21Wg2RSISNlqIHBVgswCHmkZCnl8KZ1811mm/1ep0rdFUqFa7MGA6HuaTzfTZwfpQCInpAWq0W6vU6N/3r9/u80G4DMdn6cyImw4olLm/ikRGt2yaTCXq9HoPBAJVKBbVaDf1+n8v03UaM4teOmCBHzyPG0IqVOL40NO+p02qn00G9Xke1WkW73WZ3+322NtyU6xz0pICQq5iqvFCJSPHwFd+jWKKSegmoVCq4XC643W72roq9fkRhdFXIkVgKm4Rs6o9xl30K7oJVSjH196EKUsv5IDQ2jUYDxWIR2WyWi4GsKlv5uRETy6kk9fb2NnZ3d7G3t7cQWkLPTF5hEgBuauxaxW3tL2ISMvDeIk5nyHXC474WbmI8o/19OVSQEK3c1ASWunBTA+GP/f7r8qnXo2cbDAZ8FtB+6HQ6YbPZ2JtLxlux6hs9N5WMv417IsTr3Idz9DqI/Y0ymQxev36Nt2/fIpfLQaPRIB6P49GjR9jb24Pf7/+sygeFB3e7XQwGA1Yo6Iwi4wflLIreXDLMXybL0PeI+4Qoi17GaDRCtVrlZoetVov7m4RCoYX2APf13d9YWqJDwGKxwOv1ciWgcrmMTCYDu92OQCAAt9t9Kw8uChyfAzHnQtRCqZQubSDXyd0gt6jRaITH41mwMlIn+NlsBqfTea/j8u4K8hYZjUaYTCZ2X9frdbTbbbjd7nuhgIjWCqqVT4tfp9PB6/XCYrHwpvStWGOvM+6UWE/5TiaTCZ1Oh13RFLoGYCG+maw3uVyOO9Cr1Wp4vV6OhxaraZGlSLQ4kedEbEJHVrNMJoOzszNks1nUajVe18D9tKDeFNHbSh6DdrvNXZ6pfxAdkGRRrFarSKVSSCaTXCb8S64v6kZNHjCz2YxQKITd3V04nc61FrzbOlRv69nJ+EB7WbvdZmt+u91Gv9+/sorS18J11o9KpYJer+fcTqoGRT1+qAoRxbDn83mcnZ3h7OwMpVIJnU4HFotl5Xfdp/UrFoIoFotIJBKo1Wpc0tjlci3kdpC3mHqnlUollEolnJ6esgeEqjjdtuX6Po3bOshIQpXwjo6O8O7dO26a6/f7sb+/zxWvLBbLZxmn6XTK51gymUShUOCG2YFAAH6/fyE3VzQ+kLxADWIrlQr8fj839iX5QPyOSqWCZrPJ3jMqL75qv6C8OUp4z2az6HQ63Gw6EAgs9KK6z/vNR5lrqf59LBZDrVbD+fk56vU6jo+PAbwfIKpqctnhsfyzis+9aEiAInep0WhEo9FAvV5HMpmE0WiEw+H44B5FLVX8oc7T4XCYS6MVCgWuCS3W6v/UsfmaoXE3m81wOBzwer3swkyn09xQjcZUtIIuj/tdQMmEbrcbsVgMzWYT5+fnGI1GnPhG4VjrlNXlDepbeK8KxR+lVH0+H6LRKFflePXqFQDAaDRiPp9zOBYAdDodpFIpnJyc8KEdCAT4R0wmpGQ8anaq0WhYgalUKlyucDqdotls4uzsDK9evcLh4SGy2Sy63e6CMPMtjDvwhwLvcDi4qy9Zw3K5HMLhMFtcx+Mx96w5OjpCIpHAdDqF2+2GWq2+tOuumOwOLCaOU4M1st6J1eLG4/HKPXJ5HyWv83A4hFKp5ATeyWTCa2UV19krRU+Z6Nmm+xOTSanKEP2OnvmqNUu/0+v1sNvtcLlcKBQKHBJRKBTgdDoBgMM3xf3sW9oPCIph93q9SCQSHA5JPcDoWanYwOHhIV6+fInj42OUy2Uolco7K8G9zstC806s3knzgyzL0+mUo0COj4/x5s0b9Pt9RCIRbG5uwuVyLRTnIGONx+NBNBrlqm/tdpvlkMlkwsLqKr7UGfi5oVC8breLRCKBN2/e4ODgAKenp1Cr1djY2MDu7i52d3e5cNFyfuA6OUH8DvrfdZ5JUipLpRIODw/5jOr1egiHw9ja2kI0GmUZV4wMohxRq9WKbreL09NTPruo2h8Z5Pr9PorFIo6Pj3F+fo5yuQy9Xg+r1Qq32/2BgiPe92g0QrPZRCaTQSaTwXw+h8/nQzgchs/nYyX2vs+Nj1ZALBYLgsEgSqUSvF4vGo0GqtUqzs7O2C2+rqycGLtM4QNfagMmQdhqtcLj8cDn87H7jMoKk/VVPAipQzuFAdCGRB4Qv9+PVquFVCqFcrmMRqOB09NTXhBWq3Vt51IKq6A8m/taw/lTIM+T2WzmDqYUQ5vP5zmpWaxhTeNLvxO7zn7ue6X34nQ6EYvFuONov99HLpdbqAO+7uAgYZDm/ac0R7wvKBR/lFL1+XzY3t7GaDRCMpnk92gymdg9TGPTbrdxdnaGVCqFTqfDlcWCwSBbb2jO05pyOBzcfX40GnFzTyrRSr10EokEMpkM6vU6ptPpB92PvwZL4HWgQ89msyESiaDX66FarXKfpdPTU87DIUGpWCyiXq9jOBzCYDBwXsw6r50oFIj9DMSa+I1Gg6uYNRoNlEolJJNJtNttnh9UWIBi32m/p/A9ahxGjcaSySRardallmDyjNF1DQbDwtoTc4zEkAgKlSiVStxMl0L0yHsmVmSjNUt7zvL9iN4ol8uFQCCATCaDQqGARqOBZDIJtVoNj8fD5wjtf+Q1oXPkaxAor3N/VKnJ7/dztT/aKy0WC5xOJ0wmE/r9PqrVKtLpNIrFIs+Zz+EBuC70bqiB33w+50pDdCaJnliSfTKZDBqNBpdvjcfjXKaVnkWpfN/AlvpI9Ho9bmWQSqVgt9vRbDbhcrnWhmrTfkiGl+s2jbzv84oEa0rEfvPmDY6Pj1EsFuF2u/mZVSoVN15dBUW0kCeB1qxoIKF8o1W5crS/kVeO9gObzYZgMIiNjQ34fL6F85vWP835eDyOZrOJcrmMRCLBBggKSQbe73Xn5+c4PDxEPp+HQvE+B9Lv98Pv96/t3zGZTNBut3nOFQoF9hxTmV9RObrPfJQColAouOrI/v4+TCYT0uk0MpkMarUa/vrXv+Kvf/3r2sZABoMBHo8H4XAYm5ubiMfjt1o+7abPQoJwKBTC8+fPYbfbcXFxgUwmg3w+j99+++0Dq7bJZMKTJ0/w8OFDuN3uBYsFWSW3t7eh1WoRj8f5Wi9evMCrV6/WHvh0UEWjUcRiMWz8X7nW+z6Rbgod2lqtFj6fD8+ePYPdbsfx8TGy2SxevHiBN2/efNCA0mq1Ynt7G1tbWxzqt667vPhdtwEpP36/H3/605/gcDiQTqeRy+VYmL4sv4fC8Oi9RiKRb6IxJAmSLpcLjx8/5rLTiUQClUoF/+///T+O3RfnPVmN6V1GIhGEw2G2/Iifo9KC29vbGI/HSCQSSKfTOD4+5pr48/n7TuQ2mw2xWAzBYJC9ma1Wi4WJb2ktiWFLdDDNZjNkMhmk02kOgaPD22azYWtrCzs7O6hUKlzffpW1mTwC7XYbx8fHOD4+RqFQ4IN7Mplwn6NGowGVSoVisYhUKoXffvuNQwDsdju2trawubnJnXlJKLNarYjH49xkLJ1O49dff8XR0RGHK6x7X1qtlkuVb2xsIBaLwWazsZI5nU65dv/p6SnXye/1ephOp9wUlxRVjUaDYrGIw8NDPo9sNhvC4TCi0Sg2NjYQCoXW7jdarRZerxfAeyFBr9ejWCzi1atXePXq1UKnbvKU2+12bG9v48GDB/B6vQshGveV6yjwpIDMZjM8ePAA/X4f5XIZ7969w8HBAQuIpGzYbDY8ffoUW1tbyOVy6PV6X0wJIeMiWa2n0ylSqRS63S7vTSQYit5Bq9WKH374gYVUagK3PH+VSiUcDgf29/c5pCeTyaBSqeC//uu/2JK+bh6YTCbs7Ozg4cOHCAaDnGOyiq+lDwgZC9rtNofzk/GWlNSXL19ydMQ6eVGpVMJisSASibAXyu/3Q6fTcZ8Oil549eoVF+EQIc8IKRUUchUIBBAMBuHz+T54P+SlDwQCeP78OVwuF96+fYvDw0OUSiX89NNP+OWXXxaM1WSwIePc8+fPsbm5id3dXYTDYdjt9pXFW2gtkfLRbrfh9XoRiUQ4euBrUD6Aj1RAyPKm0WgQi8VYEFQqlRxCUygU1v69xWJBOBzmfAhqnEKCJoW7kCuK6hmvsj4Bi8nx5N6kzeM6SYrkqfF4PNBqtTAajRgOh8jn8ygWi0gmkwsHtEKhgM1mg91u5zrcdIDR9cg64XK5EAqF8PLlS455bzQaGI1GKzcEnU6HUCiE+XwOs9mMYDC48Lnl8aHf0fh8DZOOIOXP4XCwBbPf76NWq7FQszzubrcbGo0Gdrsddrt9wXpB40Iuz+FwyMnMl4VPUBw9dV0mS/3yXCNBmL4jFArh6OiI4+6pmdCqZGeFQgGn08mJbC6X6867fC8jloWke1tO/r4OJFBZrVaYTCa23ADA8fEx0uk0er3ewt8YjUYEg0Fsbm5ia2uLFflVla/I0k0JdkqlEpPJBOl0Gvl8nsNk5vM5rFYrvvvuO2xsbMBisaDdbnONdLI2Lz8bzUODwQCr1crx+pSHcp/XlEKhYO/RfD5Hp9PBYDDgce/3+1Cr1XA6nXyokVEjlUpBrVZz6VsKkRPd/WQNrFarOD8/x8XFBer1OgaDAR/Us9mMLYyUz1EsFnlekGBNYa7ivCfhk4So4XCIcrnM++Oq/Z7CpTQaDQKBACqVCsbjMQv4osVzNBqhXq8jlUrh/PwcmUwGnU6H75t+gPf5KFQwhAwetI/odDp4PJ5L+1SJexkAnjuvX7/m8SBoPMgrEovF2Ft3F9C7oV5ewHsDiagkXfY3dO8Utry8X5KVXq1WY3t7G/P5HK9fv8abN2+QyWQW8iXdbjcCgQAePnwIhUKBZDKJSqWCwWCw4G2geyCvmc1mw3Q65bODQr5pLdvtdt6XyDtGv6fz0+fzLeRpUCdwKrVOskQ2m0Uul+OGsgQZUYxGIwKBAL777jtsbm7CbrevrXipVCq5Ga3D4eB7+Pvf/46DgwMMBoNLFS86p/x+P1wu1wdzcvk9LZcDvq/7GSWfDwYDVgrIcwqA9xaSLdd5hxwOB/fW8Hq9PD5i34xSqYSjoyOcn59jOByuvI7H48H29jYikQgeP36MjY0NNrwvv1fKeSJFJBKJsKcmnU6jVCqh3+8v/B0pr1qtFtFoFH/605+ws7ODYDAIi8Wy8uwRK8bR9YxGI4c/e73eryqy4qN3OxoYstj4/X6OKabSl+vQ6/Uc4x8KhT5QPjQaDbxeL77//nsEg0F2e5Lbaxl6+V6vF0+ePOFyt36/nxvGXbXoxFCsUCiE2WwGj8ez4J4XP0uWW0pGWhZqxI3Q5XJhb28POp2Ok0PXlVij2Fmfzwefz7dw7zR5RSWl3+8DAI/P19Rdm+6RBEOfz4enT5/C5XLxOC0L6WTtDYVCC8UBlEolHwJqtRputxvT6ZQ3aXHjENFqtQiFQtBoNIhGoxiNRny4rrLAieEWSqUSsVgMABCJRFj4W2dpMplMHObn8Xi+eMUso9GIUCgErVYLj8eD8XjMa+ZjEtgoydZqtWJjYwM6nQ6RSASVSuWDTZ7ind1uN0KhEBwOx6Vld2ncKfRzPp/DYrGgWq0urE0qQxiNRmEwGDAcDhEIBBCLxaBQKBAKhT5QLBSK9yWyt7a2YLPZOAwkEAiwZ/ONKK4YAAAZYElEQVQ+rycSfsmbYDAYEI1GufoXrQ3KtaI9lbwntM5cLhcLbeLaNJlMiMfjUKlU2N3d5XCr60DCVigUYmsteaIoV+j8/BwnJydoNBo8J71eLxcFWY7hJs9Lu93m0BXaJ/r9PsLhMDfENRgMCIfDAIBoNIpGo7FS4FiH0Wjkwghut/tSxZzuk9YTzatIJIJWq7XwWRIQKV/Q4XDcWclMEuItFgs2NjZYcXQ6nfB6vXA4HCufk4wz4XAY//Zv/4bd3V3YbDbE4/EPchborNJoNOy5NBqNiEQiqNfrAP4wLNAYBINBNu51u13OryMLNu0NdJ56PB5WsGOxGMsRZrMZm5ub0Gg0GA6HMJvN3JiNPAXBYBB//vOf4fF4YLPZsLGxwb+nd+P1evHdd9/B4XCg0WhwvpOIqNBQ1ILT6eTrXPYOxII1tIZDodCVa4vmNDUpFs8RkqGopLVKpeJwQtpv76t1nEL7w+Ew/uVf/gWhUOgDw9VViAI5KXaijEB5Wjs7O1AoFHjy5MnKPlPkSfF6vfD5fPD7/Vf2GaF3SorI/v4+9Ho9d7tfFzJGyuT29jaHmq0zfNG79fv9fI+9Xo8jKz6mjPOXRDH/RL8c/TmV1KTYYFqoq0IeaLFRh0mx3jtphaQJj0YjziehfIx1VjGK96WSnpQjcF23NlnFxAo7YilL8VloItBkW7eoyYq4XLFn1TXpv5e7by5fm2IlyQoJgDfB+2zhuAwxXpvGncZeHB9a4NTAUox/FZNLh8Mh5vM511wXGwCJUHUgig2fz+ecq0GC57r3SnOF+i7Q/a56p8AfB6748yXflTheZHGmmPd143WT64r7wXIoAB3cZLG+bs+P5fVJhzVdnw4ZEkbEhGkAXAJz+bsmkwlGoxFGoxFbOcWxAO5/DDV5K8Q68uQdIsMO7SskmEwmEz6A6V0sH2Big7XlspLA1eNCezHtx1SVi2Kgf/75Z5ycnKBer8NgMOD777/H06dPuVqgmAwMLFY6+/nnn/Hu3Tvo9Xo8ffqUf0KhEH8P7ZWUQExjIrL8LGI5TFqr1y2hTnsZrQFxb1i2ni/3hbjOeH4q9Kw0X/r9PnuUxH111RiJ3b4pGZv248v+RpyX1BeLnpX2dAqToXk7m83YSyvmDdG1xHdpMBh4P6U9neL7KdeG5v2yrECGQrHpr9j/QVxL9Ezic4pRCeRpoX+7zrugNUhW7XXnhzgnac6samYrJiqLBjFa33c1z27K8liI975uTJb//qo1S+cBlX+nM3/V9Wnu0XWu6w2n8RdlvnVyJJ2FlMtG8t5lc0c8t0lWorl3mSx6H/lkBUQikUgkkutCAmKz2cTbt2/x008/cfffUCiEf/mXf8Hz58/ZK7DsAaFywolEAv/93/+Nf/zjH1AoFHj48CG+//57/PDDD4jFYl+VJVAikUj+2fg6AsUkEolE8k0gxjG3223UajV0u10u3kH5bJeVsxa9B6uqa0kkEonkfiMVEIlEIpHcOauS3an/B/XmWAVVt6rX6+h0OphMJpxkS31ipBIikUgk9xupgEgkEonkzqA8N9F7oVAouARno9Hg2OnlCGEKwSqXy9xrpt1uQ6VSweVycQEFqYBIJBLJ/UYGyUokEonkzhATj91uN7a3t6FQKNBoNNDv97lx36py2PP5HN1uF6lUCvl8HlqtFhv/1wMkEonA7XZz2U6JRCKR3F9kErpEIpFI7hSq0tNoNJDL5XBxcYGjoyPkcjmukkSKyrrKSmq1mkssR6NRhMNhLrl93/u3SCQSyT870gMikUgkkjuFSolSEziz2czlMLPZLKrV6sp+CGIPC+ov8eTJEwQCgYUSqFL5kEgkkvuN9IBIJBKJ5ItANfPb7TZyuRxKpRLq9Tq63e4HDcJIqaDwLWoaS52Dl/shSCQSieT+IhUQiUQikXxRxCZd1z2SxAafEolEIvm6kAqIRCKRSCQSiUQiuTOk6UgikUgkEolEIpHcGVIBkUgkEolEIpFIJHeGVEAkEolEIpFIJBLJnSEVEIlEIpFIJBKJRHJnSAVEIpFIJBKJRCKR3BlSAZFIJBKJRCKRSCR3hlRAJBKJRCKRSCQSyZ0hFRCJRCKRSCQSiURyZ0gFRCKRSCQSiUQikdwZUgGRSCQSiUQikUgkd4ZUQCQSiUQikUgkEsmdIRUQiUQikUgkEolEcmdIBUQikUgkEolEIpHcGVIBkUgkEolEIpFIJHeG+qZ/MJvNMBwO0Ww2Ua/X0e/3MRqNMJvNbvzlWq0WDocDDocDRqMRWq0WSuWiTjSdTtHv99HtdtFsNtFsNjEejxc+o1AooFKpoNPpYLPZ4HK5oNPpoFarP7ie+By9Xg+tVgvtdhudTgej0Qjz+fzSe9ZoNNDr9TCZTLDb7bBYLFCpVCu/ZzKZLNx7o9HAdDpd+IxSqYRWq4Ver4fD4YDdbudxUCgU1xlGiUQikUgkEonkq+FGCshsNsN4PEa73cbZ2RnevHmDcrnMSsEq4V2hUGA+n/P/0mfm8zkcDgcePHiAJ0+ewOfzwW63Q6FQsOA9n88xHo9RqVSQzWZxcnKCi4sLNJvNhWuq1WpotVo4nU7s7OzgyZMncDqdMJlM0Gg0KwX56XSKarWK8/NzXFxcIJVKoV6vr7x/8b9NJhM8Hg9CoRB2d3exubkJvV6/cN9074PBAJVKBel0Gqenpzg+PsZgMFgYJ61WC7PZDJfLhUePHmFvbw8OhwNarRYqleomr0cikUgkEolEIrn33EgBIQViNBqh0Wggk8kgl8uhVqthOBxe6T0Yj8cYDAYYjUaYTCbwer3QaDQIh8Ow2+0LXpTpdIrRaIRWq4VsNovj42McHR3h/PwcrVZrQdhXKpVQq9Ww2+0Yj8fQ6XSIRCIIBAIwm81Qq9UfCPPT6RTNZhPJZBJv377F4eEh6vU6dDrdSk8M8F4BsdlsGAwGUKvVCAaDmEwmH3yO7r3ZbCKfz+Pi4gInJyc4OjrCYDDgsaR712q1sNvtUKlUMBqNAAC73Q69Xr/WgyORSCQSiUQikXyN3EgBUSgUUKvVsFqt2NnZgV6vR6vVQr/fx3Q6vVQBmU6naDQaSKVSKBQKaDabsNlssNlssFqtMBgMrCTM53P0+32Uy2XkcjkcHx8jmUzCZrPh3//936HX6xfCq0jYb7VaaDab+M///E/s7e3h2bNnCIVCsNvtMBgMH3hCSKHSarVwu93wer2IxWLw+/0rhX+FQgGdTger1QqHw4FAIMCfE7024r2nUik0m00Eg0Fsbm7yfc9mM0wmEzSbTaRSKZTLZZyenmIymaDVamF/fx9er3el8iSRSCQSiUQikXyt3EgBIUHbYrHAaDRiY2NjIaRqHeQ1yWQyePHiBY6Pj1GpVGAwGOB2u1lBEAX+fr+PfD6P09NTXFxcoFKp4E9/+hN+/PFHRCIRaLVaqNXvb7/VaiGVSuHw8BAvXrzA3/72N7RaLTgcDuj1ev5ZFYqlVCphMBjg9Xrhdrvx448/Yn9/n3M7lv+GQq0o72Q59Ap4rxBVq1UUCgVUKhVMJhNsb2/j2bNnsFqt0Gg0mEwmGAwGyGQy+Omnn1Cv15HNZlGtVjGdTuFyuWC1WmE0GmU+iEQikUgkEonkm+HGSegkCJPwf1XYFSkf4/EYrVYLxWIRjUYDFosFgUAAXq8XRqMRGo2GPz8ej9FoNJDNZpFMJqFQKBAOhxEIBDi3Q/SAmM1meL1etNttpNNp2Gw2zOdzVCoVVKtVuFyuK++TFAqNRgOtVgudTrdSARHHYN119Ho9h5d5vV7MZjN4PJ6FsCqtVguNRgOPx4Pt7W30ej2cnp6iWq0il8shm83CarXC5/PBZDJJBUQikUgkEolE8k1wYwVkmasE4/l8zlWzSqUSstksms0mPB4PwuEwvF4vDAYD1Go1FAoFxuMx537k83mk02kEg0H4/X643W5WVkRviVarhc1mg8/ng9frhcvlglKpRL1eR6PRwHA4vNHzLP/cFFJAHA4HV72i6lnkzZjP59BoNLBarYjFYhiPxyiXy0in0yiXyygWi5yYT3khEolEIpFIJBLJ184nKyBXMZvN0O12USgUUCgU0Gg0MJlMYLFY4Ha7OSSJBH1K4O71ely61uVyQaFQQKlUrix5q1AouJStXq+HVquFQqHAaDTihPerPCC3iVKp5HtZBz0PKSEul4sT5qfTKYbDIYbD4QdleyUSiUQikUgkkq+Zz15iiapN5XI55PN5DAYD9lhQ/w9RoZjNZhiNRiyADwYDdDodNJvN/9/enTalkX5tAL/YpWn2VUHECIma2az5/h8g5YuZjDpRIiqyitDsNHQD/by677+OmsSYWDHP9auirLKkWV715bnPOZhMJg+GieVyKR83J0yJisOPeoRJhBARWLxeLzweD6dfEREREdFP6bve5S4WC9n70Ww20e125b6OaDR6b/P5zUqH6JOYTCZotVrQNA3j8fjO4sP5fC6XCg4GA4xGIyyXS/h8PiiKIvtVfmRiItfNBxERERHRz+a7B5DpdIrBYIBOp4PpdIpIJIJsNotkMolgMHhn3K3T6YTX60UwGEQkEkEoFIKu66hUKnLniKiECKZpQtM01Go11Go1XF9fy0lS0Wj03hG8PwpR8dF1HZPJBOPxGLPZ7Ks2yxMRERER/ei+W2lguVxC13X0ej10Oh30ej0sFgskEglks1lEo1FZnfjvUkGPx4NgMIjV1VWsr6/j4uICnU4H1WoVp6ensNlsWFtbQyAQwGKxgKZpuLy8RKlUQqfTgcvlQigUQjKZRCQS+WQAsSwL8/kc4/EYrVYLZ2dnsnpycwqWx+OB1+uFoijw+Xzwer1P+n5ElcM0TfT7fbTbbVm5cTqd8kjWQ5O4iIiIiIheou8WQCzLQr/fR7PZRKvVwmg0gsPhQCqVwvr6OgKBwJ3wAfxvq3kwGEQul4NpmhiNRmi1Wri4uMB8PsdwOJTBwTRNVKtVHB4e4ujoCLquI5fLIZ/PI5PJIBKJfLIZXCwObDabmE6naDabCIVCtxrjbTabnNq1sbGBzc3NB/eKPOb7EUfHms2m3PDucrng9/sRiUQQCARkQz0RERER0c/guwQQ8Z99TdNQrVahaRosy0IgEEAqlUIymYSqqvc2WoseEEVRkEqlsFwu0W630ev1MBqNUKvV4HA44PV60e12YRiGHNc7HA4RiURQKBRQKBSQSCTg9/vvDTpiX4dohg8EApjP5xiNRtB1Xf69aGzXNA29Xg/j8Vj2Z6iqCkVRvqpKIYLV1dUVyuUyzs/Poes6VFVFLBZDNBpFMBiU+1GIiIiIiH4G3zyALJdL2fshbq5HoxH8fj9SqRQSiQRCodAnJz2JsbrBYBA2mw2///47VFXFxcUF6vU62u029vf34Xa7MZ/PMZ/PsVgsZHVid3cXmUxGho/7XsfhcCAcDiOfz0NVVWxsbGA0Gt1q/r7ZnzEcDtHv9/HhwwfZVF8oFJDL5WQIeczkqtFohEqlgmKxiGKxiMvLSyiKgng8jrW1NcRiMTmWl4iIiIjoZ/HN727F4kFxbKparcKyLHn0KhqNyk3mn6oaiG3hgUAA+XwekUgEiqLAsiyUy2WcnJzIakQwGEShUEA+n0ehUMDm5uat6oFlWXdey+FwIBKJwO/3Y3NzE4vF4s7ODbHDZDgc4p9//sG7d+9kM/zFxQUsy0I4HJYVmS8hApqmaSiVSjg6OsLZ2Rmur6+Rz+eRTqeRTqfliOIfeYQwEREREdFjfdMAIo5e9Xo9NBoNXF9fYzgcIhwOI5VKIZ1Oy//qf+6mWmxP73Q6qFQqaDQaspLy5s0bbG1tydBgWRacTic0TcPx8TFarZbs1xCTtv57lMlms8HpdH6ywmBZFlRVRTAYlBUQm82GWq2GcrmMSqWCbDYLh8MBp9MJh8Px2e9nNBqh1+uhVCrhw4cPKJVKmM1mSCQSePXqFba3t5HNZh88okZERERE9JJ98wBiGAY0TUOlUkG73Yau61hbW5MPRVG+6Dq6rqPRaKBYLGJ/fx8nJyfI5XLY3d3F1tYW0uk0fD4fDMNAvV7H+/fvcXx8jH6/j8Vigb29PdhsNuRyORkQHltJsNls8Hg8cLlc2NjYkNWITqeDWq2GRqOBWq0GVVURCAQ+2ewuDAYDlMtlHB8f4+joCNVqFbFYDBsbG9jd3cXbt2+RSqWePGWLiIiIiOhH9M0CyHK5lE3cjUYDpVIJ4/EYXq8XoVAI4XAYfr//1nSp+8zncxiGgXa7jbOzM5ycnGA6nSIajSKTySCXy2FjYwPJZBKKosA0Tbms0DRNnJ+fo1qtotls4vT0VG5Cd7lcXxVCxPNXVlZk07nNZoNpmpjNZjAM48Ht7Dc/02QyQb/fR7FYxMHBAc7OzmAYBuLxOF6/fo3d3V28evVK7i35XDWFiIiIiOgl+qYBxDAMDIdD1Go1nJ6eyslXYqTsl9xY35wOVSqVcHp6ing8js3NTezs7OD169dIJBJYWVmRx55isRh2dnZkM3in08FwOESpVJJ9JKFQSG5YfywRWux2uwwk//VQALk5Eezy8hIHBwfY39/HaDSCoijIZDL4448/8Ntvv8nGc+7+ICIiIqKf1TdrMjAMA4PBAK1WC/V6HbVaDQCQTCbl2F232/3ZvgZRLej1emg2m7i6uoLD4cDq6ipSqdSdJnbRAB6Px5FOpxGLxeDxeORNf6/Xw3Q6xXK5/GSV4nOWyyVM08R8PpcN8mIx4UOfa7FYYDabodfroVwu4/379ygWi2g2mwCAtbU17O7uolAoIJvNIhwOy2sxgBARERHRz+ibBRBd19Fut1Gv19FoNKBpGrxeL7LZLFZXV7/4P/uLxQKGYWAymWA8HmM0GsE0Tbkf5OZPQfzuZoXCsiy5w+OpRBVjMplgNpvB4XAgEAggHA4jEonA5/Pdu69jPp9jMBigXq/jw4cPePfuHcrlMux2O9bW1vDLL7/g119/xdramtx6TkRERET0M3vyESxRVZhMJri6ukK1WkW324VpmggEAkin00gkEvB6vV801cmyLDndyjRNGUaGwyEmkwkMw8BisbgVQsTekclkAl3XYRgG7HY7XC4XXC6XDD6PrSrc3Lbe7/fRarXktvJ4PI54PI5oNCrDlSBG7Q6HQ9kPUywW8fHjR6ysrCCTySCfz2N7exv5fP6rlxkSEREREb00Tw4g4mhSt9uV43JdLhe2traQyWQQj8cftVDP4XDI402istBqtXB0dARFURAOh+HxeKAoirzmdDpFo9HAyckJSqUSms0mEokEwuEwotGo/NvH3uAvFgv0+31cXV3h8PAQf//9NzRNg8/nw+bmJnK5HCKRyJ3eFhFYLi8v8ddff+Hg4AD1eh2qqiKfz2Nvbw/b29tIp9Oy8sHwQURERET/Hzw5gIgKRafTQbVaRavVgtfrlQv1bgaALyF6OgKBgKwyGIaBSqWCWCyGSCSCxWIBv98Pt9sNAOh2u/j48SOKxSKurq6wXC7h8/mQSqVkALp5ky+OZxmGgdlsBtM0ZY+IWFooqh+tVguVSgXn5+eo1Wqw2+1yHHA6nUYgEIDH47l17el0ina7jYuLCxweHuLg4ACmaUJVVUQiEaTTaQSDQcznc2iaduc4mThS5nK54PF44Ha75e+IiIiIiF6yJwUQsa9DNJ43m00Mh0Mkk0kUCgU5Kvcx1QeXywWfz4d0Oo29vT0oioKzszM0Gg2cn59jMpnI5YIi1EwmEzSbTXS7XTidTuzt7aFQKGBnZ0fuC7nvyJbYaH59fY3xeAzTNG81qout7rquw7IsvHnzBtFoFJubm9jY2EAsFoPL5ZLBQBwfG4/HqNfrKJfLaDab6PV6WCwWWC6XOD8/h8PhwPHxMTwez51QIRYkisb6ra0teYRNBBEiIiIiopfqyQFEbCwfDocwTRNutxuJRAL5fF5OpHrMESOn0wmfzyeXFoqRu2LE78nJCZbLpWw4B/43bcrj8WB7ext//vkncrkcMpkM/H4/PB7Prfe8XC4xnU5xdXWFf//9F2dnZ+h2u9B1/dZ7sdvtWFlZgc/nQ6FQwNu3b+W0KrHT5ObRK3FtMflqMBjAZrPB5/PBNE0AkGHH6XTeO+1KLD/0+/3Y2tqCqqpQVVX2szCAEBEREdFL9qQAYrPZ4Ha74ff7sb6+LpvGt7e3kclkEAqFHn3TLIKFz+eTvSDT6RRutxuapsmpWPdRVVVWPuLx+IOvL6oMqqoimUxiPp8jHA5jNpvdqoDY7XYoigK/3498Po98Po9UKgWPx/PgkTKbzQav1ytDmHjuQ+/5vueLKlAqlbo36BARERERvVQ26ynLMQC5EVzXdei6LvsvROP51zR/A5D9GGK7uth0Pp/PHxyt63Q6ZWAQIeG+1xbjeXVdx2g0wmw2k9f9bwCx2+3yuj6fTx6beugzWZYl+2J0Xb917S9xc6TwysrKnc/CCggRERERvWRPDiBERERERERfimOViIiIiIjo2TCAEBERERHRs2EAISIiIiKiZ8MAQkREREREz4YBhIiIiIiIng0DCBERERERPRsGECIiIiIiejYMIERERERE9GwYQIiIiIiI6NkwgBARERER0bNhACEiIiIiomfDAEJERERERM+GAYSIiIiIiJ4NAwgRERERET0bBhAiIiIiIno2DCBERERERPRs/g9w/+EVTO67EgAAAABJRU5ErkJggg==)\n",
        "\n",
        "\n",
        "\n"
      ],
      "metadata": {
        "id": "TfNBZk4HfLml"
      }
    },
    {
      "cell_type": "code",
      "source": [
        "digit =int(input(\"Please enter four digit number:\"))\n",
        "# digit = 7852\n",
        "n4 = digit // 1000\n",
        "n3 = (digit % 1000) // 100\n",
        "n2 = (digit % 100) // 10\n",
        "n1 = digit % 10\n",
        "print(f\"secret code :{n1}{n2}{n3}{n4}\")"
      ],
      "metadata": {
        "id": "wtjIjoIbfbeG",
        "outputId": "53b19a7e-9514-4651-e3e2-4b815d8491f5",
        "colab": {
          "base_uri": "https://localhost:8080/"
        }
      },
      "execution_count": 59,
      "outputs": [
        {
          "output_type": "stream",
          "name": "stdout",
          "text": [
            "Please enter four digit number:2587\n",
            "secret code :7852\n"
          ]
        }
      ]
    },
    {
      "cell_type": "code",
      "source": [],
      "metadata": {
        "id": "G3UB2w6afbVv"
      },
      "execution_count": null,
      "outputs": []
    }
  ]
}